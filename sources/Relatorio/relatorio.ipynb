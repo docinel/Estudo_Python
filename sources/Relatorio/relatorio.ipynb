{
 "cells": [
  {
   "cell_type": "code",
   "execution_count": 64,
   "metadata": {},
   "outputs": [
    {
     "data": {
      "text/plain": [
       "True"
      ]
     },
     "execution_count": 64,
     "metadata": {},
     "output_type": "execute_result"
    }
   ],
   "source": [
    "import pandas as pd\n",
    "from dotenv import load_dotenv\n",
    "import os\n",
    "load_dotenv()"
   ]
  },
  {
   "cell_type": "code",
   "execution_count": 65,
   "metadata": {},
   "outputs": [],
   "source": [
    "vendas = pd.read_excel(os.getenv('arquivo'), sheet_name = 'BASE')\n",
    "produtos = pd.read_excel(os.getenv('arquivo'), sheet_name = 'BASE')"
   ]
  },
  {
   "cell_type": "markdown",
   "metadata": {},
   "source": [
    "TOTAL DE VENDAS POR LOJAS"
   ]
  },
  {
   "cell_type": "code",
   "execution_count": 66,
   "metadata": {},
   "outputs": [],
   "source": [
    "vendas = vendas[vendas['NAT_OP'].str.contains('VENDA')]"
   ]
  },
  {
   "cell_type": "code",
   "execution_count": 67,
   "metadata": {},
   "outputs": [
    {
     "data": {
      "text/html": [
       "<div>\n",
       "<style scoped>\n",
       "    .dataframe tbody tr th:only-of-type {\n",
       "        vertical-align: middle;\n",
       "    }\n",
       "\n",
       "    .dataframe tbody tr th {\n",
       "        vertical-align: top;\n",
       "    }\n",
       "\n",
       "    .dataframe thead th {\n",
       "        text-align: right;\n",
       "    }\n",
       "</style>\n",
       "<table border=\"1\" class=\"dataframe\">\n",
       "  <thead>\n",
       "    <tr style=\"text-align: right;\">\n",
       "      <th></th>\n",
       "      <th>TOTAL</th>\n",
       "    </tr>\n",
       "    <tr>\n",
       "      <th>LOJAS</th>\n",
       "      <th></th>\n",
       "    </tr>\n",
       "  </thead>\n",
       "  <tbody>\n",
       "    <tr>\n",
       "      <th>LIDER ITAUNA</th>\n",
       "      <td>297198.00</td>\n",
       "    </tr>\n",
       "    <tr>\n",
       "      <th>SILVA LOBO</th>\n",
       "      <td>290635.63</td>\n",
       "    </tr>\n",
       "    <tr>\n",
       "      <th>PARA DE MINAS</th>\n",
       "      <td>266270.49</td>\n",
       "    </tr>\n",
       "    <tr>\n",
       "      <th>BURITIS</th>\n",
       "      <td>261875.80</td>\n",
       "    </tr>\n",
       "    <tr>\n",
       "      <th>SETE LAGOAS</th>\n",
       "      <td>258471.00</td>\n",
       "    </tr>\n",
       "    <tr>\n",
       "      <th>DIVINOPOLIS</th>\n",
       "      <td>224104.00</td>\n",
       "    </tr>\n",
       "    <tr>\n",
       "      <th>PREMIUM ITAUNA</th>\n",
       "      <td>181337.30</td>\n",
       "    </tr>\n",
       "    <tr>\n",
       "      <th>CARMO DO CAJURU</th>\n",
       "      <td>143416.96</td>\n",
       "    </tr>\n",
       "    <tr>\n",
       "      <th>BETIM</th>\n",
       "      <td>132013.24</td>\n",
       "    </tr>\n",
       "  </tbody>\n",
       "</table>\n",
       "</div>"
      ],
      "text/plain": [
       "                     TOTAL\n",
       "LOJAS                     \n",
       "LIDER ITAUNA     297198.00\n",
       "SILVA LOBO       290635.63\n",
       "PARA DE MINAS    266270.49\n",
       "BURITIS          261875.80\n",
       "SETE LAGOAS      258471.00\n",
       "DIVINOPOLIS      224104.00\n",
       "PREMIUM ITAUNA   181337.30\n",
       "CARMO DO CAJURU  143416.96\n",
       "BETIM            132013.24"
      ]
     },
     "execution_count": 67,
     "metadata": {},
     "output_type": "execute_result"
    }
   ],
   "source": [
    "vendas = vendas[['LOJAS', 'TOTAL']].groupby('LOJAS').sum()\n",
    "vendas = vendas.sort_values('TOTAL', ascending = False)\n",
    "vendas"
   ]
  },
  {
   "cell_type": "markdown",
   "metadata": {},
   "source": [
    "QTADE DE VENDAS POR PRODUTO"
   ]
  },
  {
   "cell_type": "code",
   "execution_count": 68,
   "metadata": {},
   "outputs": [
    {
     "data": {
      "text/html": [
       "<div>\n",
       "<style scoped>\n",
       "    .dataframe tbody tr th:only-of-type {\n",
       "        vertical-align: middle;\n",
       "    }\n",
       "\n",
       "    .dataframe tbody tr th {\n",
       "        vertical-align: top;\n",
       "    }\n",
       "\n",
       "    .dataframe thead th {\n",
       "        text-align: right;\n",
       "    }\n",
       "</style>\n",
       "<table border=\"1\" class=\"dataframe\">\n",
       "  <thead>\n",
       "    <tr style=\"text-align: right;\">\n",
       "      <th></th>\n",
       "      <th>TOTAL</th>\n",
       "    </tr>\n",
       "    <tr>\n",
       "      <th>COD_AUX</th>\n",
       "      <th></th>\n",
       "    </tr>\n",
       "  </thead>\n",
       "  <tbody>\n",
       "    <tr>\n",
       "      <th>1CHLON1636POS</th>\n",
       "      <td>56776.50</td>\n",
       "    </tr>\n",
       "    <tr>\n",
       "      <th>1CHLON1636POW</th>\n",
       "      <td>50359.00</td>\n",
       "    </tr>\n",
       "    <tr>\n",
       "      <th>1CHLON1936POS</th>\n",
       "      <td>47511.00</td>\n",
       "    </tr>\n",
       "    <tr>\n",
       "      <th>1BXECO16BMSNA</th>\n",
       "      <td>47205.07</td>\n",
       "    </tr>\n",
       "    <tr>\n",
       "      <th>1CHAMT16POLNA</th>\n",
       "      <td>41368.79</td>\n",
       "    </tr>\n",
       "    <tr>\n",
       "      <th>...</th>\n",
       "      <td>...</td>\n",
       "    </tr>\n",
       "    <tr>\n",
       "      <th>1CH16861CONS</th>\n",
       "      <td>1.00</td>\n",
       "    </tr>\n",
       "    <tr>\n",
       "      <th>1CH158878CONS</th>\n",
       "      <td>1.00</td>\n",
       "    </tr>\n",
       "    <tr>\n",
       "      <th>1CH158873CONS</th>\n",
       "      <td>1.00</td>\n",
       "    </tr>\n",
       "    <tr>\n",
       "      <th>1EMPRE19BOXLE</th>\n",
       "      <td>1.00</td>\n",
       "    </tr>\n",
       "    <tr>\n",
       "      <th>1CH193864CONS</th>\n",
       "      <td>1.00</td>\n",
       "    </tr>\n",
       "  </tbody>\n",
       "</table>\n",
       "<p>484 rows × 1 columns</p>\n",
       "</div>"
      ],
      "text/plain": [
       "                  TOTAL\n",
       "COD_AUX                \n",
       "1CHLON1636POS  56776.50\n",
       "1CHLON1636POW  50359.00\n",
       "1CHLON1936POS  47511.00\n",
       "1BXECO16BMSNA  47205.07\n",
       "1CHAMT16POLNA  41368.79\n",
       "...                 ...\n",
       "1CH16861CONS       1.00\n",
       "1CH158878CONS      1.00\n",
       "1CH158873CONS      1.00\n",
       "1EMPRE19BOXLE      1.00\n",
       "1CH193864CONS      1.00\n",
       "\n",
       "[484 rows x 1 columns]"
      ]
     },
     "execution_count": 68,
     "metadata": {},
     "output_type": "execute_result"
    }
   ],
   "source": [
    "produtos = produtos[['COD_AUX', 'TOTAL']].groupby('COD_AUX').sum()\n",
    "produtos = produtos.sort_values('TOTAL', ascending = False)\n",
    "produtos"
   ]
  }
 ],
 "metadata": {
  "kernelspec": {
   "display_name": "env",
   "language": "python",
   "name": "python3"
  },
  "language_info": {
   "codemirror_mode": {
    "name": "ipython",
    "version": 3
   },
   "file_extension": ".py",
   "mimetype": "text/x-python",
   "name": "python",
   "nbconvert_exporter": "python",
   "pygments_lexer": "ipython3",
   "version": "3.10.11"
  }
 },
 "nbformat": 4,
 "nbformat_minor": 2
}
